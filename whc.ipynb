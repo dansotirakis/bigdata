{
  "nbformat": 4,
  "nbformat_minor": 0,
  "metadata": {
    "colab": {
      "provenance": [],
      "mount_file_id": "1Iutwr_5Hi_T8by4xsAr3Ckg6AjYg8mGZ",
      "authorship_tag": "ABX9TyPjEgMu5RYJ4IdOf+MOdbo6",
      "include_colab_link": true
    },
    "kernelspec": {
      "name": "python3",
      "display_name": "Python 3"
    },
    "language_info": {
      "name": "python"
    }
  },
  "cells": [
    {
      "cell_type": "markdown",
      "metadata": {
        "id": "view-in-github",
        "colab_type": "text"
      },
      "source": [
        "<a href=\"https://colab.research.google.com/github/dansotirakis/bigdata/blob/feature%2Fwhc/whc.ipynb\" target=\"_parent\"><img src=\"https://colab.research.google.com/assets/colab-badge.svg\" alt=\"Open In Colab\"/></a>"
      ]
    },
    {
      "cell_type": "markdown",
      "source": [
        "# **UNESCO** Patrimônios da humanidade\n",
        "- [x] Online\n",
        "- [x] Offline\n",
        "- [x] Top 10 Países com mais patrimônios online\n",
        "- [x] Top 5 Países com mais patrimônois destruídos"
      ],
      "metadata": {
        "id": "EFveXYAgd132"
      }
    },
    {
      "cell_type": "code",
      "execution_count": null,
      "metadata": {
        "id": "KAQ2PGbuVumH"
      },
      "outputs": [],
      "source": [
        "from google.colab import drive \n",
        "import pandas as pd "
      ]
    },
    {
      "cell_type": "code",
      "source": [
        "drive.mount('/content/gdrive')\n",
        "df=pd.read_csv('/content/gdrive/MyDrive/💡 BigData/Database/whc-sites.csv')\n",
        "df"
      ],
      "metadata": {
        "id": "UhocAlKvdgHu"
      },
      "execution_count": null,
      "outputs": []
    },
    {
      "cell_type": "markdown",
      "source": [
        "### Patrimônios 🔛 "
      ],
      "metadata": {
        "id": "YVOZ0K_CPxPV"
      }
    },
    {
      "cell_type": "code",
      "source": [
        "df_on=df.loc[df['danger']==0]\n",
        "df_on['states_name_en'].count()"
      ],
      "metadata": {
        "colab": {
          "base_uri": "https://localhost:8080/"
        },
        "id": "-CzDYeArQ13x",
        "outputId": "05eab777-e8b5-41a3-f3a5-f127ec537955"
      },
      "execution_count": null,
      "outputs": [
        {
          "output_type": "execute_result",
          "data": {
            "text/plain": [
              "1102"
            ]
          },
          "metadata": {},
          "execution_count": 50
        }
      ]
    },
    {
      "cell_type": "markdown",
      "source": [
        "### Patrimônios 📴"
      ],
      "metadata": {
        "id": "WG9TSMDz6zrw"
      }
    },
    {
      "cell_type": "markdown",
      "source": [],
      "metadata": {
        "id": "rW4mm6nK8aKC"
      }
    },
    {
      "cell_type": "code",
      "source": [
        "df_off=df.loc[df['danger']==1]\n",
        "df_off['states_name_en'].count()"
      ],
      "metadata": {
        "colab": {
          "base_uri": "https://localhost:8080/"
        },
        "id": "iLTpuOBp6M8t",
        "outputId": "13c4a552-a04e-4e7b-d3c4-6ab6045fb8ab"
      },
      "execution_count": null,
      "outputs": [
        {
          "output_type": "execute_result",
          "data": {
            "text/plain": [
              "52"
            ]
          },
          "metadata": {},
          "execution_count": 49
        }
      ]
    },
    {
      "cell_type": "markdown",
      "source": [
        "### TOP 10 Países com a maior quantidade de patrimônios ✈️"
      ],
      "metadata": {
        "id": "hCJ1UkzDf7as"
      }
    },
    {
      "cell_type": "code",
      "source": [
        "df_on['states_name_en'].value_counts().head(10)"
      ],
      "metadata": {
        "colab": {
          "base_uri": "https://localhost:8080/"
        },
        "id": "sQeCSKr5gMft",
        "outputId": "c075a8e2-677e-4de8-8243-b2c9ee44f312"
      },
      "execution_count": null,
      "outputs": [
        {
          "output_type": "execute_result",
          "data": {
            "text/plain": [
              "China                                                   55\n",
              "Italy                                                   51\n",
              "Spain                                                   45\n",
              "France                                                  43\n",
              "Germany                                                 41\n",
              "India                                                   39\n",
              "Mexico                                                  34\n",
              "United Kingdom of Great Britain and Northern Ireland    31\n",
              "Russian Federation                                      26\n",
              "Iran (Islamic Republic of)                              26\n",
              "Name: states_name_en, dtype: int64"
            ]
          },
          "metadata": {},
          "execution_count": 38
        }
      ]
    },
    {
      "cell_type": "markdown",
      "source": [
        "### TOP 5 Países com a maior quantiddae de patrimônios destruídos 🫤"
      ],
      "metadata": {
        "id": "4xYyyNcG3zpD"
      }
    },
    {
      "cell_type": "code",
      "source": [
        "df_off['states_name_en'].value_counts().head(5)"
      ],
      "metadata": {
        "colab": {
          "base_uri": "https://localhost:8080/"
        },
        "id": "_822fLUD3-ou",
        "outputId": "72315b73-cabf-4f00-fb86-770e41478b8a"
      },
      "execution_count": null,
      "outputs": [
        {
          "output_type": "execute_result",
          "data": {
            "text/plain": [
              "Syrian Arab Republic                6\n",
              "Libya                               5\n",
              "Democratic Republic of the Congo    4\n",
              "Iraq                                3\n",
              "Yemen                               3\n",
              "Name: states_name_en, dtype: int64"
            ]
          },
          "metadata": {},
          "execution_count": 41
        }
      ]
    }
  ]
}